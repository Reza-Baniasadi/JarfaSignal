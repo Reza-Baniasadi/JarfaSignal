{
 "cells": [
  {
   "cell_type": "code",
   "execution_count": 3,
   "id": "9e7d4ac5",
   "metadata": {},
   "outputs": [],
   "source": [
    "import os\n",
    "import whisper\n"
   ]
  },
  {
   "cell_type": "code",
   "execution_count": null,
   "id": "97b04bf4",
   "metadata": {},
   "outputs": [],
   "source": [
    "model = whisper.load_model('small')\n"
   ]
  },
  {
   "cell_type": "code",
   "execution_count": null,
   "id": "42a00cf1",
   "metadata": {},
   "outputs": [],
   "source": [
    "for i,file in enumerate(os.listdir('/Users/mac/JarfaBin-Signal/Data/Voice')):\n",
    "     if os.path.exists(f'/Users/mac/JarfaBin-Signal/Data/Voice/{i,file}'):\n",
    "        file = os.path.join('/Users/mac/JarfaBin-Signal/Data/Voice',file)     \n",
    "        model.transcribe(file,language='fa')\n"
   ]
  },
  {
   "cell_type": "code",
   "execution_count": null,
   "id": "10a6c3c6",
   "metadata": {},
   "outputs": [],
   "source": []
  }
 ],
 "metadata": {
  "kernelspec": {
   "display_name": "Python 3",
   "language": "python",
   "name": "python3"
  },
  "language_info": {
   "codemirror_mode": {
    "name": "ipython",
    "version": 3
   },
   "file_extension": ".py",
   "mimetype": "text/x-python",
   "name": "python",
   "nbconvert_exporter": "python",
   "pygments_lexer": "ipython3",
   "version": "3.11.12"
  }
 },
 "nbformat": 4,
 "nbformat_minor": 5
}
