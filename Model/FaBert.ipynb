{
 "cells": [
  {
   "cell_type": "code",
   "execution_count": 1,
   "id": "bff0d980",
   "metadata": {},
   "outputs": [
    {
     "name": "stderr",
     "output_type": "stream",
     "text": [
      "/usr/local/lib/python3.11/site-packages/tqdm/auto.py:21: TqdmWarning: IProgress not found. Please update jupyter and ipywidgets. See https://ipywidgets.readthedocs.io/en/stable/user_install.html\n",
      "  from .autonotebook import tqdm as notebook_tqdm\n",
      "2025-08-20 22:33:00.433891: I tensorflow/core/platform/cpu_feature_guard.cc:210] This TensorFlow binary is optimized to use available CPU instructions in performance-critical operations.\n",
      "To enable the following instructions: AVX2 FMA, in other operations, rebuild TensorFlow with the appropriate compiler flags.\n"
     ]
    }
   ],
   "source": [
    "import csv\n",
    "from transformers import AutoTokenizer, AutoModelForSequenceClassification, pipeline\n",
    "import dotenv\n",
    "from dotenv import load_dotenv\n",
    "import os"
   ]
  },
  {
   "cell_type": "code",
   "execution_count": 14,
   "id": "64e5c607",
   "metadata": {},
   "outputs": [],
   "source": [
    "model_name = \"HooshvareLab/bert-base-parsbert-uncased\""
   ]
  },
  {
   "cell_type": "code",
   "execution_count": null,
   "id": "4a644e60",
   "metadata": {},
   "outputs": [],
   "source": [
    "tokenizer = AutoTokenizer.from_pretrained(model_name)\n",
    "model = AutoModelForSequenceClassification.from_pretrained(model_name)"
   ]
  },
  {
   "cell_type": "code",
   "execution_count": null,
   "id": "689be0da",
   "metadata": {},
   "outputs": [],
   "source": [
    "import csv\n",
    "getdata = []\n",
    "filename  = '/Users/mac/JarfaBin-Signal/Data/telegramdatapersia.csv'\n",
    "with open(filename,'r')as f:\n",
    "\n",
    "    filecontent = csv.reader(f)\n",
    "    for row in filecontent:\n",
    "\n",
    "        # print(row)\n",
    "        getdata.append(row)\n",
    "        # print(getdata)\n",
    "\n",
    "for data in getdata:\n",
    "    # print(data)\n",
    "    sense = model(data)\n",
    "    print(f\"{data}:\",sense)"
   ]
  },
  {
   "cell_type": "code",
   "execution_count": null,
   "id": "f78cd5a1",
   "metadata": {},
   "outputs": [
    {
     "name": "stdout",
     "output_type": "stream",
     "text": [
      "False\n"
     ]
    }
   ],
   "source": [
    "import torch\n",
    "print(torch.backends.mps.is_available())\n"
   ]
  },
  {
   "cell_type": "code",
   "execution_count": 7,
   "id": "7eb9ebec",
   "metadata": {},
   "outputs": [
    {
     "name": "stdout",
     "output_type": "stream",
     "text": [
      "2.2.2\n"
     ]
    }
   ],
   "source": [
    "import torch\n",
    "print(torch.__version__)\n"
   ]
  },
  {
   "cell_type": "code",
   "execution_count": null,
   "id": "f2de8933",
   "metadata": {},
   "outputs": [],
   "source": []
  }
 ],
 "metadata": {
  "kernelspec": {
   "display_name": "Python 3",
   "language": "python",
   "name": "python3"
  },
  "language_info": {
   "codemirror_mode": {
    "name": "ipython",
    "version": 3
   },
   "file_extension": ".py",
   "mimetype": "text/x-python",
   "name": "python",
   "nbconvert_exporter": "python",
   "pygments_lexer": "ipython3",
   "version": "3.11.12"
  }
 },
 "nbformat": 4,
 "nbformat_minor": 5
}
