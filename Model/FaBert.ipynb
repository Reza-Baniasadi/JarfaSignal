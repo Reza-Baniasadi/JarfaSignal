{
 "cells": [
  {
   "cell_type": "code",
   "execution_count": 11,
   "id": "bff0d980",
   "metadata": {},
   "outputs": [],
   "source": [
    "import csv\n",
    "from transformers import AutoTokenizer, AutoModelForSequenceClassification, pipeline\n",
    "import dotenv\n",
    "from dotenv import load_dotenv\n",
    "import os\n",
    "import sys\n",
    "sys.path.append('/Users/mac/JarfaBin-Signal')\n"
   ]
  },
  {
   "cell_type": "code",
   "execution_count": 2,
   "id": "64e5c607",
   "metadata": {},
   "outputs": [],
   "source": [
    "# model_name = \"HooshvareLab/bert-base-parsbert-uncased\"\n",
    "model_name = '/Users/mac/JarfaBin-Signal/save_model'"
   ]
  },
  {
   "cell_type": "code",
   "execution_count": 6,
   "id": "4a644e60",
   "metadata": {},
   "outputs": [],
   "source": [
    "file = '/Users/mac/JarfaBin-Signal/save_model'\n",
    "os.makedirs(file,exist_ok=True)\n",
    "\n",
    "tokenizer = AutoTokenizer.from_pretrained(model_name)\n",
    "model = AutoModelForSequenceClassification.from_pretrained(model_name,use_safetensors=True)\n"
   ]
  },
  {
   "cell_type": "code",
   "execution_count": null,
   "id": "689be0da",
   "metadata": {},
   "outputs": [
    {
     "name": "stdout",
     "output_type": "stream",
     "text": [
      "['ریکشن\\u200cها']: Predicted class = posetive\n"
     ]
    },
    {
     "name": "stderr",
     "output_type": "stream",
     "text": [
      "/usr/local/lib/python3.11/site-packages/torch/nn/modules/module.py:1520: FutureWarning: `encoder_attention_mask` is deprecated and will be removed in version 4.55.0 for `BertSdpaSelfAttention.forward`.\n",
      "  return forward_call(*args, **kwargs)\n"
     ]
    }
   ],
   "source": [
    "from CleanArchitecture.dry import getdatafile\n",
    "import torch\n",
    "\n",
    "filename = '/Users/mac/JarfaBin-Signal/Data/telegramdatafa.csv'\n",
    "def dataInsertModel(filename):\n",
    "     with open(filename,'a',encoding=\"utf-8\") as f :\n",
    "          f.write('')\n",
    "\n",
    "     getdata =  getdatafile(filename)\n",
    "\n",
    "     for data in getdata:\n",
    "          inputs = tokenizer(data,return_tensors=\"pt\",padding=True,truncation=True)\n",
    "     with torch.no_grad():\n",
    "          sense = model(**inputs)\n",
    "     \n",
    "     pred_class = torch.argmax(sense.logits, dim=1).item()\n",
    "     if pred_class == 1 :\n",
    "          pred_class = 'posetive'\n",
    "     else:\n",
    "          pred_class = 'negative'\n",
    "     print(f\"{data}: Predicted  = {pred_class}\")\n"
   ]
  },
  {
   "cell_type": "code",
   "execution_count": null,
   "id": "1f48a86a",
   "metadata": {},
   "outputs": [],
   "source": []
  },
  {
   "cell_type": "code",
   "execution_count": null,
   "id": "06f5712b",
   "metadata": {},
   "outputs": [],
   "source": []
  }
 ],
 "metadata": {
  "kernelspec": {
   "display_name": "Python 3",
   "language": "python",
   "name": "python3"
  },
  "language_info": {
   "codemirror_mode": {
    "name": "ipython",
    "version": 3
   },
   "file_extension": ".py",
   "mimetype": "text/x-python",
   "name": "python",
   "nbconvert_exporter": "python",
   "pygments_lexer": "ipython3",
   "version": "3.11.12"
  }
 },
 "nbformat": 4,
 "nbformat_minor": 5
}
