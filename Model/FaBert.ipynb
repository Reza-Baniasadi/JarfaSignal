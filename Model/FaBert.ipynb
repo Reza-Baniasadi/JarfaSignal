{
 "cells": [
  {
   "cell_type": "code",
   "execution_count": 2,
   "id": "bff0d980",
   "metadata": {},
   "outputs": [
    {
     "name": "stderr",
     "output_type": "stream",
     "text": [
      "/usr/local/lib/python3.11/site-packages/tqdm/auto.py:21: TqdmWarning: IProgress not found. Please update jupyter and ipywidgets. See https://ipywidgets.readthedocs.io/en/stable/user_install.html\n",
      "  from .autonotebook import tqdm as notebook_tqdm\n",
      "2025-08-24 14:33:34.059551: I tensorflow/core/platform/cpu_feature_guard.cc:210] This TensorFlow binary is optimized to use available CPU instructions in performance-critical operations.\n",
      "To enable the following instructions: AVX2 FMA, in other operations, rebuild TensorFlow with the appropriate compiler flags.\n"
     ]
    }
   ],
   "source": [
    "import csv\n",
    "from transformers import AutoTokenizer, AutoModelForSequenceClassification, pipeline\n",
    "import dotenv\n",
    "from dotenv import load_dotenv\n",
    "import os\n",
    "import sys\n",
    "sys.path.append('/Users/mac/JarfaBin-Signal')\n"
   ]
  },
  {
   "cell_type": "code",
   "execution_count": 3,
   "id": "64e5c607",
   "metadata": {},
   "outputs": [],
   "source": [
    "# model_name = \"HooshvareLab/bert-base-parsbert-uncased\"\n",
    "model_name = '/Users/mac/JarfaBin-Signal/save_model'"
   ]
  },
  {
   "cell_type": "code",
   "execution_count": 8,
   "id": "4a644e60",
   "metadata": {},
   "outputs": [],
   "source": [
    "file = '/Users/mac/JarfaBin-Signal/save_model'\n",
    "os.makedirs(file,exist_ok=True)\n",
    "\n",
    "tokenizer = AutoTokenizer.from_pretrained(model_name)\n",
    "model = AutoModelForSequenceClassification.from_pretrained(model_name,use_safetensors=True)\n"
   ]
  },
  {
   "cell_type": "code",
   "execution_count": 9,
   "id": "689be0da",
   "metadata": {},
   "outputs": [],
   "source": [
    "from CleanArchitecture.dry import getdatafile\n",
    "import torch\n",
    "\n",
    "filename = '/Users/mac/JarfaBin-Signal/Data/telegramdatafa.csv'\n",
    "\n",
    "def dataInsertModel(filename):\n",
    "     with open(filename,'a',encoding=\"utf-8\") as f :\n",
    "          f.write('')\n",
    "\n",
    "     getdata =  getdatafile(filename)\n",
    "\n",
    "     for data in getdata:\n",
    "          inputs = tokenizer(data,return_tensors=\"pt\",padding=True,truncation=True)\n",
    "     with torch.no_grad():\n",
    "          sense = model(**inputs)\n",
    "     \n",
    "     pred_class = torch.argmax(sense.logits, dim=1).item()\n",
    "     if pred_class == 1 :\n",
    "          pred_class = 'posetive'\n",
    "     else:\n",
    "          pred_class = 'negative'\n",
    "     print(f\"{data}: Predicted  = {pred_class}\")\n",
    "     return pred_class\n"
   ]
  },
  {
   "cell_type": "code",
   "execution_count": 10,
   "id": "1f48a86a",
   "metadata": {},
   "outputs": [
    {
     "name": "stderr",
     "output_type": "stream",
     "text": [
      "Asking to truncate to max_length but no maximum length is provided and the model has no predefined maximum length. Default to no truncation.\n",
      "/usr/local/lib/python3.11/site-packages/torch/nn/modules/module.py:1520: FutureWarning: `encoder_attention_mask` is deprecated and will be removed in version 4.55.0 for `BertSdpaSelfAttention.forward`.\n",
      "  return forward_call(*args, **kwargs)\n"
     ]
    },
    {
     "name": "stdout",
     "output_type": "stream",
     "text": [
      "['hello']: Predicted  = posetive\n",
      "posetive\n"
     ]
    }
   ],
   "source": [
    "filename = '/Users/mac/JarfaBin-Signal/Data/telegramdatafaNews.csv'\n",
    "\n",
    "finalsense = dataInsertModel(filename)\n",
    "print(finalsense)"
   ]
  },
  {
   "cell_type": "code",
   "execution_count": null,
   "id": "06f5712b",
   "metadata": {},
   "outputs": [],
   "source": []
  }
 ],
 "metadata": {
  "kernelspec": {
   "display_name": "Python 3",
   "language": "python",
   "name": "python3"
  },
  "language_info": {
   "codemirror_mode": {
    "name": "ipython",
    "version": 3
   },
   "file_extension": ".py",
   "mimetype": "text/x-python",
   "name": "python",
   "nbconvert_exporter": "python",
   "pygments_lexer": "ipython3",
   "version": "3.11.12"
  }
 },
 "nbformat": 4,
 "nbformat_minor": 5
}
