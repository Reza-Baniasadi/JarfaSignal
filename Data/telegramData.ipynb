{
 "cells": [
  {
   "cell_type": "code",
   "execution_count": 14,
   "id": "a2afb617",
   "metadata": {},
   "outputs": [],
   "source": [
    "from telethon import TelegramClient,events\n",
    "import pandas as pd\n",
    "import asyncio"
   ]
  },
  {
   "cell_type": "code",
   "execution_count": null,
   "id": "9aa14005",
   "metadata": {},
   "outputs": [],
   "source": [
    "api_id = 'API_ID'       \n",
    "api_hash = 'API_HASH'  \n",
    "channelname = ['','','','']\n",
    "all_data = []\n",
    "\n",
    "def getdataChannel():\n",
    "    async with TelegramClient('session',api_id,api_hash) as client:\n",
    "            for channel in channelname:\n",
    "                async for message in channel.iter_message(channel,limit=100):\n",
    "                        print(message.text)\n",
    "                        all_data.append({\n",
    "                                'channel':channel,\n",
    "                                'date' : message.date,\n",
    "                                'text':message.text\n",
    "                        })\n",
    "\n",
    "df=pd.DataFrame(all_data)\n",
    "df.to_csv('/Users/mac/JarfaBin-Signal/src/Data/telegramdata.csv')\n",
    "\n",
    "asyncio.run(getdataChannel())\n"
   ]
  },
  {
   "cell_type": "code",
   "execution_count": null,
   "id": "d42e98dd",
   "metadata": {},
   "outputs": [],
   "source": [
    "df = pd.read_csv('/Users/mac/JarfaBin-Signal/src/Data/data.csv')\n",
    "df\n",
    "df.dropna(inplace=True)"
   ]
  },
  {
   "cell_type": "code",
   "execution_count": null,
   "id": "b1e57ad8",
   "metadata": {},
   "outputs": [],
   "source": [
    "df = df.applymap(lambda x: x.lower() if isinstance(x,str) else x)"
   ]
  },
  {
   "cell_type": "markdown",
   "id": "df171bd3",
   "metadata": {},
   "source": []
  }
 ],
 "metadata": {
  "kernelspec": {
   "display_name": "Python 3",
   "language": "python",
   "name": "python3"
  },
  "language_info": {
   "codemirror_mode": {
    "name": "ipython",
    "version": 3
   },
   "file_extension": ".py",
   "mimetype": "text/x-python",
   "name": "python",
   "nbconvert_exporter": "python",
   "pygments_lexer": "ipython3",
   "version": "3.11.12"
  }
 },
 "nbformat": 4,
 "nbformat_minor": 5
}
