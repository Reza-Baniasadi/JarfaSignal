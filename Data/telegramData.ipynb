{
 "cells": [
  {
   "cell_type": "code",
   "execution_count": 1,
   "id": "a2afb617",
   "metadata": {},
   "outputs": [],
   "source": [
    "from telethon import TelegramClient,events\n",
    "import pandas as pd\n",
    "import asyncio\n",
    "from dotenv import load_dotenv\n",
    "import os\n"
   ]
  },
  {
   "cell_type": "code",
   "execution_count": null,
   "id": "63a29e43",
   "metadata": {},
   "outputs": [],
   "source": [
    "\n",
    "load_dotenv()\n",
    "\n",
    "channelakhbar = os.getenv('CHANNELNAME')\n",
    "\n",
    "filesave = '/Users/mac/JarfaBin-Signal/Data/telegramdatapersia.csv'\n",
    "all_data = []\n",
    "\n",
    "async def getdataChannel(channelakhbar,filesave):\n",
    "        api_id = int(os.getenv('API_ID'))       \n",
    "        api_hash = os.getenv('API_HASH')\n",
    "        phone = os.getenv('PHONE')\n",
    "        async with TelegramClient('session',api_id,api_hash) as client:\n",
    "            await client.start(phone)\n",
    "            for channel in channelakhbar:\n",
    "                async for message in client.iter_messages(channel, limit=100):\n",
    "                        print(message.text)\n",
    "                        all_data.append({\n",
    "                                'channel':channel,\n",
    "                                'date' : message.date,\n",
    "                                'text':message.text\n",
    "                        })\n",
    "\n",
    "        df=pd.DataFrame(all_data)\n",
    "        df.to_csv(filesave)\n",
    "\n",
    "\n",
    "if __name__ == \"__main__\":\n",
    "   await getdataChannel()\n",
    "\n"
   ]
  },
  {
   "cell_type": "code",
   "execution_count": null,
   "id": "05f3c404",
   "metadata": {},
   "outputs": [],
   "source": [
    "api_id = int(os.getenv('API_ID'))       \n",
    "api_hash = os.getenv('API_HASH')\n",
    "phone = os.getenv('PHONE')\n",
    "channel_crypto = os.getenv('CHANNElCRYPTO')\n",
    "\n",
    "filesave = '/Users/mac/JarfaBin-Signal/Data/telegramdatapersia.csv'\n",
    "all_data = []\n",
    "\n",
    "\n",
    "await getdataChannel(api_id,api_hash,phone,channel_crypto,filesave)"
   ]
  },
  {
   "cell_type": "code",
   "execution_count": null,
   "id": "d42e98dd",
   "metadata": {},
   "outputs": [],
   "source": [
    "df = pd.read_csv('/Users/mac/JarfaBin-Signal/Data/data.csv')\n",
    "df\n",
    "df.dropna(inplace=True)"
   ]
  },
  {
   "cell_type": "code",
   "execution_count": null,
   "id": "b1e57ad8",
   "metadata": {},
   "outputs": [],
   "source": [
    "df = df.applymap(lambda x: x.lower() if isinstance(x,str) else x)"
   ]
  },
  {
   "cell_type": "markdown",
   "id": "df171bd3",
   "metadata": {},
   "source": []
  }
 ],
 "metadata": {
  "kernelspec": {
   "display_name": "Python 3",
   "language": "python",
   "name": "python3"
  },
  "language_info": {
   "codemirror_mode": {
    "name": "ipython",
    "version": 3
   },
   "file_extension": ".py",
   "mimetype": "text/x-python",
   "name": "python",
   "nbconvert_exporter": "python",
   "pygments_lexer": "ipython3",
   "version": "3.11.12"
  }
 },
 "nbformat": 4,
 "nbformat_minor": 5
}
