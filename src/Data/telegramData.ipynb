{
 "cells": [
  {
   "cell_type": "code",
   "execution_count": 2,
   "id": "a2afb617",
   "metadata": {},
   "outputs": [],
   "source": [
    "from telethon import TelegramClient,events"
   ]
  },
  {
   "cell_type": "code",
   "execution_count": null,
   "id": "9aa14005",
   "metadata": {},
   "outputs": [
    {
     "ename": "SyntaxError",
     "evalue": "incomplete input (1935824850.py, line 2)",
     "output_type": "error",
     "traceback": [
      "  \u001b[36mCell\u001b[39m\u001b[36m \u001b[39m\u001b[32mIn[4]\u001b[39m\u001b[32m, line 2\u001b[39m\n\u001b[31m    \u001b[39m\n    ^\n\u001b[31mSyntaxError\u001b[39m\u001b[31m:\u001b[39m incomplete input\n"
     ]
    }
   ],
   "source": [
    "api_id = 'API_ID'       \n",
    "api_hash = 'API_HASH'  \n",
    "\n",
    "def getdataChannel():\n",
    "    client = TelegramClient('session=',api_id,api_hash)\n",
    "    async def main() :\n",
    "        channek  = client.get_entity"
   ]
  },
  {
   "cell_type": "code",
   "execution_count": null,
   "id": "d42e98dd",
   "metadata": {},
   "outputs": [],
   "source": []
  }
 ],
 "metadata": {
  "kernelspec": {
   "display_name": "Python 3",
   "language": "python",
   "name": "python3"
  },
  "language_info": {
   "codemirror_mode": {
    "name": "ipython",
    "version": 3
   },
   "file_extension": ".py",
   "mimetype": "text/x-python",
   "name": "python",
   "nbconvert_exporter": "python",
   "pygments_lexer": "ipython3",
   "version": "3.11.12"
  }
 },
 "nbformat": 4,
 "nbformat_minor": 5
}
